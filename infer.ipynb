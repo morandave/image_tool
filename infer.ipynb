{
 "cells": [
  {
   "cell_type": "code",
   "execution_count": 2,
   "metadata": {},
   "outputs": [
    {
     "name": "stdout",
     "output_type": "stream",
     "text": [
      "Successfully output images in dataset\\output\n"
     ]
    },
    {
     "name": "stderr",
     "output_type": "stream",
     "text": [
      "[WARNING] ME(11288:9404,MainProcess):2023-06-04-19:52:23.918.668 [mindspore\\train\\serialization.py:660] For 'load_param_into_net', remove parameter train_one_step_cell_d.network.generator.generator.0.conv.weight's prefix name: train_one_step_cell_d.network.generator.generator., continue to load it to net parameter 0.conv.weight.\n",
      "\n",
      "  0%|          | 0/2 [00:00<?, ?it/s]\n",
      " 50%|█████     | 1/2 [00:04<00:04,  4.25s/it]\n",
      "100%|██████████| 2/2 [00:07<00:00,  3.81s/it]\n",
      "100%|██████████| 2/2 [00:07<00:00,  3.87s/it]\n"
     ]
    }
   ],
   "source": [
    "!python src\\infer.py --infer_dir dataset\\test\\real --infer_output dataset\\output --ckpt_file_name checkpoints\\animeganv2_generator_Hayao.ckpt"
   ]
  }
 ],
 "metadata": {
  "kernelspec": {
   "display_name": "Python 3.7.5 ('MindSpore')",
   "language": "python",
   "name": "python3"
  },
  "language_info": {
   "codemirror_mode": {
    "name": "ipython",
    "version": 3
   },
   "file_extension": ".py",
   "mimetype": "text/x-python",
   "name": "python",
   "nbconvert_exporter": "python",
   "pygments_lexer": "ipython3",
   "version": "3.7.5"
  },
  "orig_nbformat": 4,
  "vscode": {
   "interpreter": {
    "hash": "d0bc1727ca1d99eae89afa38448df3cbea841e8a1a65309e2f90cbaacc0c1ea8"
   }
  }
 },
 "nbformat": 4,
 "nbformat_minor": 2
}
